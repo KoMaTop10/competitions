{
 "cells": [
  {
   "cell_type": "code",
   "execution_count": null,
   "metadata": {},
   "outputs": [],
   "source": [
    "import pandas as pd\n",
    "import numpy as np\n",
    "import sklearn"
   ]
  },
  {
   "cell_type": "markdown",
   "metadata": {},
   "source": [
    "# コピペ用の関数たち"
   ]
  },
  {
   "cell_type": "code",
   "execution_count": 130,
   "metadata": {},
   "outputs": [],
   "source": [
    "def merge_train_data(files:list)->pd.DataFrame:\n",
    "    count = 0\n",
    "    for file in files:\n",
    "        train_i = pd.read_csv(file)\n",
    "        if (count==0):\n",
    "            df = train_i.copy()\n",
    "            count+=1\n",
    "            continue\n",
    "        df = pd.concat([df,train_i],axis = 0)\n",
    "    return df\n",
    "df = merge_train_data(files)\n",
    "\n",
    "def data_extract(df:pd.DataFrame)->pd.DataFrame:\n",
    "    # 確実にいらないカラムたち\n",
    "    data = df.copy()\n",
    "    data = data.drop(['ID','種類','地域', '都道府県名', '市区町村名', '地区名','土地の形状', '間口', \n",
    "                                  '延床面積（㎡）','用途','今後の利用目的','前面道路：方位', '前面道路：種類', \n",
    "                                  '前面道路：幅員（ｍ）','取引の事情等','最寄駅：名称'],axis=1) \n",
    "    # もしかしたら使うかもしれないカラムたち\n",
    "    data = data.drop(['市区町村コード','都市計画'],axis=1)\n",
    "    data = data.fillna({'改装':'未改装'})\n",
    "    data.rename(columns={'最寄駅：距離（分）':'nearest_station','間取り':'floor_type','面積（㎡）':'area','建築年':'builted_year',\n",
    "            '建ぺい率（％）':'coverrage','容積率（％）':'floor_rate','取引時点':'sold_year','建物の構造':'structure'},inplace = True)\n",
    "    return data\n",
    "\n",
    "def convert_nearest_station(value):\n",
    "    if value == value:\n",
    "        if value == '30分?60分':\n",
    "            return 45\n",
    "        elif value ==  '1H?1H30':\n",
    "            return 75\n",
    "        elif value =='1H30?2H':\n",
    "            return 105\n",
    "        elif value =='2H?':\n",
    "            return 120\n",
    "        return float(value)\n",
    "    \n",
    "def convert_area(area):\n",
    "    if (area==\"2000㎡以上\"):\n",
    "        return 2000\n",
    "    else:\n",
    "        return int(area)\n",
    "    \n",
    "def convert_builted_year(year):\n",
    "    if year == year:\n",
    "        wareki = year[:2]\n",
    "        if(wareki==\"戦前\"):\n",
    "            return 1945\n",
    "        \n",
    "        if(year[2:len(year)-1]==\"元\"):\n",
    "            value =  1\n",
    "        else:\n",
    "            value = int(year[2:len(year)-1])\n",
    "\n",
    "        if(wareki == \"昭和\"):\n",
    "            return 1925 + value\n",
    "        elif(wareki== \"平成\"):\n",
    "            return 1988 +value\n",
    "        elif(wareki==\"令和\"):\n",
    "            return 2018 + value\n",
    "\n",
    "def convert_sold_year(year):\n",
    "    return int(year[:4])\n",
    "    \n",
    "            \n",
    "def data_processing(data:pd.DataFrame)->pd.DataFrame:\n",
    "    df = data.copy()\n",
    "    df.nearest_station = df.nearest_station.apply(lambda x: convert_nearest_station(x))\n",
    "    df.builted_year = df.builted_year.apply(lambda x:convert_builted_year(x))\n",
    "    df.area = df.area.apply(lambda x:convert_area(x))\n",
    "    df.sold_year = df.sold_year.apply(lambda x:convert_sold_year(x))\n",
    "    \n",
    "    dummies = pd.get_dummies(data[['改装']])\n",
    "    df = pd.concat([df.drop('改装',axis=1),dummies[['改装_改装済']]],axis = 1)\n",
    "    \n",
    "    df = df.drop([\"floor_type\",\"structure\"],axis=1)\n",
    "    return df\n",
    "    \n",
    "    \n"
   ]
  },
  {
   "cell_type": "code",
   "execution_count": 34,
   "metadata": {},
   "outputs": [
    {
     "data": {
      "text/html": [
       "<div>\n",
       "<style scoped>\n",
       "    .dataframe tbody tr th:only-of-type {\n",
       "        vertical-align: middle;\n",
       "    }\n",
       "\n",
       "    .dataframe tbody tr th {\n",
       "        vertical-align: top;\n",
       "    }\n",
       "\n",
       "    .dataframe thead th {\n",
       "        text-align: right;\n",
       "    }\n",
       "</style>\n",
       "<table border=\"1\" class=\"dataframe\">\n",
       "  <thead>\n",
       "    <tr style=\"text-align: right;\">\n",
       "      <th></th>\n",
       "      <th>ID</th>\n",
       "      <th>種類</th>\n",
       "      <th>地域</th>\n",
       "      <th>市区町村コード</th>\n",
       "      <th>都道府県名</th>\n",
       "      <th>市区町村名</th>\n",
       "      <th>地区名</th>\n",
       "      <th>最寄駅：名称</th>\n",
       "      <th>最寄駅：距離（分）</th>\n",
       "      <th>間取り</th>\n",
       "      <th>...</th>\n",
       "      <th>前面道路：方位</th>\n",
       "      <th>前面道路：種類</th>\n",
       "      <th>前面道路：幅員（ｍ）</th>\n",
       "      <th>都市計画</th>\n",
       "      <th>建ぺい率（％）</th>\n",
       "      <th>容積率（％）</th>\n",
       "      <th>取引時点</th>\n",
       "      <th>改装</th>\n",
       "      <th>取引の事情等</th>\n",
       "      <th>取引価格（総額）_log</th>\n",
       "    </tr>\n",
       "  </thead>\n",
       "  <tbody>\n",
       "    <tr>\n",
       "      <th>0</th>\n",
       "      <td>1000809</td>\n",
       "      <td>中古マンション等</td>\n",
       "      <td>NaN</td>\n",
       "      <td>1101</td>\n",
       "      <td>北海道</td>\n",
       "      <td>札幌市中央区</td>\n",
       "      <td>北１条西</td>\n",
       "      <td>西１８丁目</td>\n",
       "      <td>5</td>\n",
       "      <td>オープンフロア</td>\n",
       "      <td>...</td>\n",
       "      <td>NaN</td>\n",
       "      <td>NaN</td>\n",
       "      <td>NaN</td>\n",
       "      <td>商業地域</td>\n",
       "      <td>80.0</td>\n",
       "      <td>400.0</td>\n",
       "      <td>2019年第3四半期</td>\n",
       "      <td>改装済</td>\n",
       "      <td>NaN</td>\n",
       "      <td>6.963788</td>\n",
       "    </tr>\n",
       "  </tbody>\n",
       "</table>\n",
       "<p>1 rows × 28 columns</p>\n",
       "</div>"
      ],
      "text/plain": [
       "        ID        種類  地域  市区町村コード 都道府県名   市区町村名   地区名 最寄駅：名称 最寄駅：距離（分）  \\\n",
       "0  1000809  中古マンション等 NaN     1101   北海道  札幌市中央区  北１条西  西１８丁目         5   \n",
       "\n",
       "       間取り  ...  前面道路：方位  前面道路：種類  前面道路：幅員（ｍ）  都市計画 建ぺい率（％） 容積率（％）  \\\n",
       "0  オープンフロア  ...      NaN      NaN         NaN  商業地域    80.0  400.0   \n",
       "\n",
       "         取引時点   改装  取引の事情等  取引価格（総額）_log  \n",
       "0  2019年第3四半期  改装済     NaN      6.963788  \n",
       "\n",
       "[1 rows x 28 columns]"
      ]
     },
     "execution_count": 34,
     "metadata": {},
     "output_type": "execute_result"
    }
   ],
   "source": [
    "data = pd.read_csv(\"./data/train/01.csv\")\n",
    "data.head(1)"
   ]
  },
  {
   "cell_type": "markdown",
   "metadata": {},
   "source": [
    "# 削除したカラム\n",
    "\n",
    "・ID:不要 \\\n",
    "・種類:全部同じ値のため　　\\\n",
    "・地域:市区町村コードで代用できると判断したため\\\n",
    "・都道府県名:\"地域\"と同様の理由\\\n",
    "・地区名:\"地域\"と同様の理由 \\\n",
    "・土地の形状:ほぼNULL値のため不要\\\n",
    "・間口:ほぼNULL値のため不要 \\\n",
    "・延床面積（㎡）:ほぼNULL値のため不要 \\\n",
    "・用途:多くの値が「住宅」を占めるため不要と判断\\\n",
    "・今後の利用目的:多くの値が「住宅」を占めるため不要と判断 \n",
    "#### \"用途\"と\"今後の利用目的\"結合すればNULL値がなくなりそうなので要検討\n",
    "・前面道路：方位:ほぼNULL値のため不要 \\\n",
    "・前面道路：種類:ほぼNULL値のため不要 \\\n",
    "・前面道路：幅員（ｍ）:ほぼNULL値のため不要\\\n",
    "・取引の事情等:ほぼNULL値のため不要"
   ]
  },
  {
   "cell_type": "code",
   "execution_count": 35,
   "metadata": {},
   "outputs": [
    {
     "data": {
      "text/html": [
       "<div>\n",
       "<style scoped>\n",
       "    .dataframe tbody tr th:only-of-type {\n",
       "        vertical-align: middle;\n",
       "    }\n",
       "\n",
       "    .dataframe tbody tr th {\n",
       "        vertical-align: top;\n",
       "    }\n",
       "\n",
       "    .dataframe thead th {\n",
       "        text-align: right;\n",
       "    }\n",
       "</style>\n",
       "<table border=\"1\" class=\"dataframe\">\n",
       "  <thead>\n",
       "    <tr style=\"text-align: right;\">\n",
       "      <th></th>\n",
       "      <th>nearest_station</th>\n",
       "      <th>floor_type</th>\n",
       "      <th>area</th>\n",
       "      <th>builted_year</th>\n",
       "      <th>structure</th>\n",
       "      <th>coverrage</th>\n",
       "      <th>floor_rate</th>\n",
       "      <th>sold_year</th>\n",
       "      <th>改装</th>\n",
       "      <th>取引価格（総額）_log</th>\n",
       "    </tr>\n",
       "  </thead>\n",
       "  <tbody>\n",
       "    <tr>\n",
       "      <th>0</th>\n",
       "      <td>5</td>\n",
       "      <td>オープンフロア</td>\n",
       "      <td>85</td>\n",
       "      <td>昭和49年</td>\n",
       "      <td>ＳＲＣ</td>\n",
       "      <td>80.0</td>\n",
       "      <td>400.0</td>\n",
       "      <td>2019年第3四半期</td>\n",
       "      <td>改装済</td>\n",
       "      <td>6.963788</td>\n",
       "    </tr>\n",
       "    <tr>\n",
       "      <th>1</th>\n",
       "      <td>10</td>\n",
       "      <td>３ＬＤＫ</td>\n",
       "      <td>70</td>\n",
       "      <td>平成7年</td>\n",
       "      <td>ＲＣ</td>\n",
       "      <td>60.0</td>\n",
       "      <td>200.0</td>\n",
       "      <td>2013年第1四半期</td>\n",
       "      <td>未改装</td>\n",
       "      <td>7.000000</td>\n",
       "    </tr>\n",
       "    <tr>\n",
       "      <th>2</th>\n",
       "      <td>5</td>\n",
       "      <td>３ＬＤＫ</td>\n",
       "      <td>70</td>\n",
       "      <td>平成6年</td>\n",
       "      <td>ＲＣ</td>\n",
       "      <td>60.0</td>\n",
       "      <td>200.0</td>\n",
       "      <td>2019年第4四半期</td>\n",
       "      <td>改装済</td>\n",
       "      <td>7.301030</td>\n",
       "    </tr>\n",
       "    <tr>\n",
       "      <th>3</th>\n",
       "      <td>4</td>\n",
       "      <td>３ＬＤＫ</td>\n",
       "      <td>85</td>\n",
       "      <td>平成15年</td>\n",
       "      <td>ＳＲＣ</td>\n",
       "      <td>60.0</td>\n",
       "      <td>300.0</td>\n",
       "      <td>2009年第2四半期</td>\n",
       "      <td>未改装</td>\n",
       "      <td>7.255273</td>\n",
       "    </tr>\n",
       "    <tr>\n",
       "      <th>4</th>\n",
       "      <td>3</td>\n",
       "      <td>１Ｋ</td>\n",
       "      <td>20</td>\n",
       "      <td>昭和64年</td>\n",
       "      <td>ＳＲＣ</td>\n",
       "      <td>80.0</td>\n",
       "      <td>600.0</td>\n",
       "      <td>2017年第1四半期</td>\n",
       "      <td>未改装</td>\n",
       "      <td>6.361728</td>\n",
       "    </tr>\n",
       "    <tr>\n",
       "      <th>5</th>\n",
       "      <td>6</td>\n",
       "      <td>３ＬＤＫ</td>\n",
       "      <td>60</td>\n",
       "      <td>昭和52年</td>\n",
       "      <td>ＲＣ</td>\n",
       "      <td>60.0</td>\n",
       "      <td>200.0</td>\n",
       "      <td>2019年第3四半期</td>\n",
       "      <td>未改装</td>\n",
       "      <td>6.740363</td>\n",
       "    </tr>\n",
       "    <tr>\n",
       "      <th>6</th>\n",
       "      <td>9</td>\n",
       "      <td>３ＬＤＫ</td>\n",
       "      <td>85</td>\n",
       "      <td>平成20年</td>\n",
       "      <td>ＲＣ</td>\n",
       "      <td>60.0</td>\n",
       "      <td>200.0</td>\n",
       "      <td>2011年第1四半期</td>\n",
       "      <td>未改装</td>\n",
       "      <td>7.361728</td>\n",
       "    </tr>\n",
       "    <tr>\n",
       "      <th>7</th>\n",
       "      <td>8</td>\n",
       "      <td>３ＬＤＫ</td>\n",
       "      <td>55</td>\n",
       "      <td>昭和52年</td>\n",
       "      <td>ＲＣ</td>\n",
       "      <td>60.0</td>\n",
       "      <td>200.0</td>\n",
       "      <td>2016年第1四半期</td>\n",
       "      <td>NaN</td>\n",
       "      <td>6.681241</td>\n",
       "    </tr>\n",
       "    <tr>\n",
       "      <th>8</th>\n",
       "      <td>4</td>\n",
       "      <td>４ＬＤＫ</td>\n",
       "      <td>90</td>\n",
       "      <td>平成9年</td>\n",
       "      <td>ＳＲＣ</td>\n",
       "      <td>80.0</td>\n",
       "      <td>300.0</td>\n",
       "      <td>2008年第1四半期</td>\n",
       "      <td>未改装</td>\n",
       "      <td>7.301030</td>\n",
       "    </tr>\n",
       "    <tr>\n",
       "      <th>9</th>\n",
       "      <td>10</td>\n",
       "      <td>３ＬＤＫ</td>\n",
       "      <td>75</td>\n",
       "      <td>平成19年</td>\n",
       "      <td>ＲＣ</td>\n",
       "      <td>60.0</td>\n",
       "      <td>200.0</td>\n",
       "      <td>2015年第4四半期</td>\n",
       "      <td>未改装</td>\n",
       "      <td>7.397940</td>\n",
       "    </tr>\n",
       "  </tbody>\n",
       "</table>\n",
       "</div>"
      ],
      "text/plain": [
       "  nearest_station floor_type  area builted_year structure  coverrage  \\\n",
       "0               5    オープンフロア    85        昭和49年       ＳＲＣ       80.0   \n",
       "1              10       ３ＬＤＫ    70         平成7年        ＲＣ       60.0   \n",
       "2               5       ３ＬＤＫ    70         平成6年        ＲＣ       60.0   \n",
       "3               4       ３ＬＤＫ    85        平成15年       ＳＲＣ       60.0   \n",
       "4               3         １Ｋ    20        昭和64年       ＳＲＣ       80.0   \n",
       "5               6       ３ＬＤＫ    60        昭和52年        ＲＣ       60.0   \n",
       "6               9       ３ＬＤＫ    85        平成20年        ＲＣ       60.0   \n",
       "7               8       ３ＬＤＫ    55        昭和52年        ＲＣ       60.0   \n",
       "8               4       ４ＬＤＫ    90         平成9年       ＳＲＣ       80.0   \n",
       "9              10       ３ＬＤＫ    75        平成19年        ＲＣ       60.0   \n",
       "\n",
       "   floor_rate   sold_year   改装  取引価格（総額）_log  \n",
       "0       400.0  2019年第3四半期  改装済      6.963788  \n",
       "1       200.0  2013年第1四半期  未改装      7.000000  \n",
       "2       200.0  2019年第4四半期  改装済      7.301030  \n",
       "3       300.0  2009年第2四半期  未改装      7.255273  \n",
       "4       600.0  2017年第1四半期  未改装      6.361728  \n",
       "5       200.0  2019年第3四半期  未改装      6.740363  \n",
       "6       200.0  2011年第1四半期  未改装      7.361728  \n",
       "7       200.0  2016年第1四半期  NaN      6.681241  \n",
       "8       300.0  2008年第1四半期  未改装      7.301030  \n",
       "9       200.0  2015年第4四半期  未改装      7.397940  "
      ]
     },
     "execution_count": 35,
     "metadata": {},
     "output_type": "execute_result"
    }
   ],
   "source": [
    "data = pd.read_csv(\"./data/train/01.csv\").head(10)\n",
    "# 確実にいらないカラムたち\n",
    "data = data.drop(['ID','種類','地域', '都道府県名', '市区町村名', '地区名','土地の形状', '間口', \n",
    "                                  '延床面積（㎡）','用途','今後の利用目的','前面道路：方位', '前面道路：種類', \n",
    "                                  '前面道路：幅員（ｍ）','取引の事情等','最寄駅：名称'],axis=1) \n",
    "# もしかしたら使うかもしれないカラムたち\n",
    "data = data.drop(['市区町村コード','都市計画'],axis=1)\n",
    "# data = data.fillna({'改装':'未改装'})\n",
    "data.rename(columns={'最寄駅：距離（分）':'nearest_station','間取り':'floor_type','面積（㎡）':'area','建築年':'builted_year',\n",
    "            '建ぺい率（％）':'coverrage','容積率（％）':'floor_rate','取引時点':'sold_year','建物の構造':'structure'},inplace = True)\n",
    "data"
   ]
  },
  {
   "cell_type": "markdown",
   "metadata": {},
   "source": [
    "### 間取りを順序尺度に変換できれば使えそう\n",
    "\n",
    "・面積の平均値によってランクを付与したものを使用する\\\n",
    "・部屋数と間取りを対応させる\n",
    "・"
   ]
  },
  {
   "cell_type": "code",
   "execution_count": 110,
   "metadata": {},
   "outputs": [
    {
     "name": "stderr",
     "output_type": "stream",
     "text": [
      "/Users/komachiyuuki/opt/anaconda3/lib/python3.8/site-packages/IPython/core/interactiveshell.py:3338: DtypeWarning: Columns (10) have mixed types.Specify dtype option on import or set low_memory=False.\n",
      "  if (await self.run_code(code, result,  async_=asy)):\n"
     ]
    }
   ],
   "source": [
    "def merge_train_data(files:list)->pd.DataFrame:\n",
    "    count = 0\n",
    "    for file in files:\n",
    "        train_i = pd.read_csv(file)\n",
    "        if (count==0):\n",
    "            df = train_i.copy()\n",
    "            count+=1\n",
    "            continue\n",
    "        df = pd.concat([df,train_i],axis = 0)\n",
    "    return df\n",
    "df = merge_train_data(files)\n",
    "\n",
    "def data_extract(df:pd.DataFrame)->pd.DataFrame:\n",
    "    # 確実にいらないカラムたち\n",
    "    data = df.copy()\n",
    "    data = data.drop(['ID','種類','地域', '都道府県名', '市区町村名', '地区名','土地の形状', '間口', \n",
    "                                  '延床面積（㎡）','用途','今後の利用目的','前面道路：方位', '前面道路：種類', \n",
    "                                  '前面道路：幅員（ｍ）','取引の事情等','最寄駅：名称'],axis=1) \n",
    "    # もしかしたら使うかもしれないカラムたち\n",
    "    data = data.drop(['市区町村コード','都市計画'],axis=1)\n",
    "    data = data.fillna({'改装':'未改装'})\n",
    "    data.rename(columns={'最寄駅：距離（分）':'nearest_station','間取り':'floor_type','面積（㎡）':'area','建築年':'builted_year',\n",
    "            '建ぺい率（％）':'coverrage','容積率（％）':'floor_rate','取引時点':'sold_year','建物の構造':'structure'},inplace = True)\n",
    "    return data"
   ]
  },
  {
   "cell_type": "code",
   "execution_count": 41,
   "metadata": {},
   "outputs": [
    {
     "data": {
      "text/plain": [
       "array(['7', '4', '18', '5', '6', '22', nan, '8', '16', '3', '30分?60分',\n",
       "       '29', '9', '17', '12', '23', '14', '21', '15', '25', '20', '19',\n",
       "       '10', '13', '11', '1', '24', '1H30?2H', '28', '26', '2', '1H?1H30',\n",
       "       '27', '0', '2H?'], dtype=object)"
      ]
     },
     "execution_count": 41,
     "metadata": {},
     "output_type": "execute_result"
    }
   ],
   "source": [
    "data['nearest_station'].unique()"
   ]
  },
  {
   "cell_type": "markdown",
   "metadata": {},
   "source": [
    "# nearest_station の前処理"
   ]
  },
  {
   "cell_type": "code",
   "execution_count": 111,
   "metadata": {},
   "outputs": [
    {
     "data": {
      "text/html": [
       "<div>\n",
       "<style scoped>\n",
       "    .dataframe tbody tr th:only-of-type {\n",
       "        vertical-align: middle;\n",
       "    }\n",
       "\n",
       "    .dataframe tbody tr th {\n",
       "        vertical-align: top;\n",
       "    }\n",
       "\n",
       "    .dataframe thead th {\n",
       "        text-align: right;\n",
       "    }\n",
       "</style>\n",
       "<table border=\"1\" class=\"dataframe\">\n",
       "  <thead>\n",
       "    <tr style=\"text-align: right;\">\n",
       "      <th></th>\n",
       "      <th>nearest_station</th>\n",
       "      <th>floor_type</th>\n",
       "      <th>area</th>\n",
       "      <th>builted_year</th>\n",
       "      <th>structure</th>\n",
       "      <th>coverrage</th>\n",
       "      <th>floor_rate</th>\n",
       "      <th>sold_year</th>\n",
       "      <th>改装</th>\n",
       "      <th>取引価格（総額）_log</th>\n",
       "    </tr>\n",
       "  </thead>\n",
       "  <tbody>\n",
       "    <tr>\n",
       "      <th>0</th>\n",
       "      <td>7</td>\n",
       "      <td>２ＬＤＫ</td>\n",
       "      <td>45</td>\n",
       "      <td>昭和63年</td>\n",
       "      <td>ＲＣ</td>\n",
       "      <td>60.0</td>\n",
       "      <td>150.0</td>\n",
       "      <td>2021年第2四半期</td>\n",
       "      <td>改装済</td>\n",
       "      <td>7.041393</td>\n",
       "    </tr>\n",
       "    <tr>\n",
       "      <th>1</th>\n",
       "      <td>4</td>\n",
       "      <td>１Ｋ</td>\n",
       "      <td>15</td>\n",
       "      <td>昭和64年</td>\n",
       "      <td>ＳＲＣ</td>\n",
       "      <td>80.0</td>\n",
       "      <td>400.0</td>\n",
       "      <td>2020年第2四半期</td>\n",
       "      <td>未改装</td>\n",
       "      <td>6.602060</td>\n",
       "    </tr>\n",
       "    <tr>\n",
       "      <th>2</th>\n",
       "      <td>18</td>\n",
       "      <td>４ＬＤＫ</td>\n",
       "      <td>80</td>\n",
       "      <td>昭和63年</td>\n",
       "      <td>ＲＣ</td>\n",
       "      <td>60.0</td>\n",
       "      <td>150.0</td>\n",
       "      <td>2020年第4四半期</td>\n",
       "      <td>改装済</td>\n",
       "      <td>7.397940</td>\n",
       "    </tr>\n",
       "    <tr>\n",
       "      <th>3</th>\n",
       "      <td>5</td>\n",
       "      <td>２ＬＤＫ</td>\n",
       "      <td>60</td>\n",
       "      <td>平成18年</td>\n",
       "      <td>ＲＣ</td>\n",
       "      <td>80.0</td>\n",
       "      <td>400.0</td>\n",
       "      <td>2020年第1四半期</td>\n",
       "      <td>未改装</td>\n",
       "      <td>7.278754</td>\n",
       "    </tr>\n",
       "    <tr>\n",
       "      <th>4</th>\n",
       "      <td>6</td>\n",
       "      <td>３ＤＫ</td>\n",
       "      <td>60</td>\n",
       "      <td>昭和62年</td>\n",
       "      <td>ＳＲＣ</td>\n",
       "      <td>80.0</td>\n",
       "      <td>400.0</td>\n",
       "      <td>2007年第3四半期</td>\n",
       "      <td>未改装</td>\n",
       "      <td>6.929419</td>\n",
       "    </tr>\n",
       "  </tbody>\n",
       "</table>\n",
       "</div>"
      ],
      "text/plain": [
       "  nearest_station floor_type area builted_year structure  coverrage  \\\n",
       "0               7       ２ＬＤＫ   45        昭和63年        ＲＣ       60.0   \n",
       "1               4         １Ｋ   15        昭和64年       ＳＲＣ       80.0   \n",
       "2              18       ４ＬＤＫ   80        昭和63年        ＲＣ       60.0   \n",
       "3               5       ２ＬＤＫ   60        平成18年        ＲＣ       80.0   \n",
       "4               6        ３ＤＫ   60        昭和62年       ＳＲＣ       80.0   \n",
       "\n",
       "   floor_rate   sold_year   改装  取引価格（総額）_log  \n",
       "0       150.0  2021年第2四半期  改装済      7.041393  \n",
       "1       400.0  2020年第2四半期  未改装      6.602060  \n",
       "2       150.0  2020年第4四半期  改装済      7.397940  \n",
       "3       400.0  2020年第1四半期  未改装      7.278754  \n",
       "4       400.0  2007年第3四半期  未改装      6.929419  "
      ]
     },
     "execution_count": 111,
     "metadata": {},
     "output_type": "execute_result"
    }
   ],
   "source": [
    "data = data_extract(df)\n",
    "data.head()"
   ]
  },
  {
   "cell_type": "code",
   "execution_count": 42,
   "metadata": {},
   "outputs": [],
   "source": [
    "def convert_nearest_station(value):\n",
    "    if value == value:\n",
    "        if value == '30分?60分':\n",
    "            return 45\n",
    "        elif value ==  '1H?1H30':\n",
    "            return 75\n",
    "        elif value =='1H30?2H':\n",
    "            return 105\n",
    "        elif value =='2H?':\n",
    "            return 120\n",
    "        return float(value)"
   ]
  },
  {
   "cell_type": "code",
   "execution_count": 45,
   "metadata": {},
   "outputs": [],
   "source": [
    "data['nearest_station'] = data['nearest_station'].apply(lambda x: convert_nearest_station(x))"
   ]
  },
  {
   "cell_type": "code",
   "execution_count": 46,
   "metadata": {},
   "outputs": [
    {
     "name": "stdout",
     "output_type": "stream",
     "text": [
      "False\n",
      "True\n"
     ]
    }
   ],
   "source": [
    "moyori =  data.query('nearest_station==\"3\"').iloc[3,6]\n",
    "moyorib =  data.query('nearest_station==\"3\"').iloc[4,6]\n",
    "print(moyori == moyori)\n",
    "print(moyorib == moyorib)"
   ]
  },
  {
   "cell_type": "code",
   "execution_count": 48,
   "metadata": {},
   "outputs": [
    {
     "data": {
      "text/plain": [
       "array([  7.,   4.,  18.,   5.,   6.,  22.,   8.,  16.,   3.,  45.,  29.,\n",
       "         9.,  17.,  12.,  23.,  14.,  21.,  15.,  25.,  20.,  19.,  10.,\n",
       "        13.,  11.,   1.,  24., 105.,  28.,  26.,   2.,  75.,  27.,   0.,\n",
       "       120.])"
      ]
     },
     "execution_count": 48,
     "metadata": {},
     "output_type": "execute_result"
    }
   ],
   "source": [
    "test = data.copy()\n",
    "station_mean = test.dropna()[\"nearest_station\"].median()\n",
    "test.fillna({\"nearest_station\":station_mean},inplace=True)\n",
    "test.nearest_station.unique()"
   ]
  },
  {
   "cell_type": "markdown",
   "metadata": {},
   "source": [
    "# builted_year の前処理"
   ]
  },
  {
   "cell_type": "markdown",
   "metadata": {},
   "source": [
    "そのままだと和暦になっているので西暦にして返す"
   ]
  },
  {
   "cell_type": "code",
   "execution_count": 113,
   "metadata": {},
   "outputs": [],
   "source": [
    "def convert_builted_year(year):\n",
    "    if year == year:\n",
    "        wareki = year[:2]\n",
    "        if(wareki==\"戦前\"):\n",
    "            return 1945\n",
    "        \n",
    "        if(year[2:len(year)-1]==\"元\"):\n",
    "            value =  1\n",
    "        else:\n",
    "            value = int(year[2:len(year)-1])\n",
    "\n",
    "        if(wareki == \"昭和\"):\n",
    "            return 1925 + value\n",
    "        elif(wareki== \"平成\"):\n",
    "            return 1988 +value\n",
    "        elif(wareki==\"令和\"):\n",
    "            return 2018 + value\n",
    "            \n",
    "    "
   ]
  },
  {
   "cell_type": "code",
   "execution_count": 114,
   "metadata": {},
   "outputs": [
    {
     "data": {
      "text/plain": [
       "array(['昭和63年', '昭和64年', '平成18年', '昭和62年', '平成14年', '平成7年', '平成13年',\n",
       "       '平成9年', '平成3年', '平成11年', '平成2年', '平成10年', '平成21年', '昭和59年', '平成8年',\n",
       "       '平成6年', '平成19年', '平成20年', '平成25年', '平成22年', '平成27年', '昭和61年',\n",
       "       '平成15年', '平成17年', '平成4年', '平成16年', '昭和60年', '平成24年', '平成26年',\n",
       "       '昭和52年', '昭和49年', '平成23年', '平成12年', nan, '昭和50年', '昭和54年', '昭和47年',\n",
       "       '平成31年', '昭和57年', '平成5年', '昭和58年', '昭和55年', '昭和56年', '平成28年',\n",
       "       '昭和46年', '昭和44年', '平成30年', '昭和53年', '昭和51年', '平成29年', '戦前',\n",
       "       '昭和36年', '昭和48年', '令和2年', '昭和43年', '令和3年', '昭和23年', '昭和31年',\n",
       "       '昭和40年', '昭和45年', '昭和41年', '昭和28年', '昭和42年', '昭和22年', '昭和39年',\n",
       "       '昭和37年', '昭和27年', '昭和33年', '昭和32年', '昭和25年', '昭和24年', '昭和26年',\n",
       "       '昭和34年', '昭和38年', '昭和21年', '昭和35年', '昭和29年', '昭和30年', '令和4年'],\n",
       "      dtype=object)"
      ]
     },
     "execution_count": 114,
     "metadata": {},
     "output_type": "execute_result"
    }
   ],
   "source": [
    "data[\"builted_year\"].unique()"
   ]
  },
  {
   "cell_type": "code",
   "execution_count": 117,
   "metadata": {},
   "outputs": [
    {
     "data": {
      "text/plain": [
       "dtype('float64')"
      ]
     },
     "execution_count": 117,
     "metadata": {},
     "output_type": "execute_result"
    }
   ],
   "source": [
    "data.builted_year.apply(lambda x:convert_builted_year(x)).dtypes"
   ]
  },
  {
   "cell_type": "code",
   "execution_count": 88,
   "metadata": {},
   "outputs": [
    {
     "data": {
      "text/plain": [
       "2019"
      ]
     },
     "execution_count": 88,
     "metadata": {},
     "output_type": "execute_result"
    }
   ],
   "source": [
    "year_process(\"令和元年\")"
   ]
  },
  {
   "cell_type": "markdown",
   "metadata": {},
   "source": [
    "# floor_type　の前処理"
   ]
  },
  {
   "cell_type": "markdown",
   "metadata": {},
   "source": [
    "部屋のタイプを大きさ順にしてランキングにして返す"
   ]
  },
  {
   "cell_type": "code",
   "execution_count": 92,
   "metadata": {},
   "outputs": [
    {
     "data": {
      "text/plain": [
       "array(['２ＬＤＫ', '１Ｋ', '４ＬＤＫ', '３ＤＫ', '３ＬＤＫ', '１ＬＤＫ', '１ＤＫ', nan, '４ＤＫ',\n",
       "       '２ＤＫ', '２Ｋ', 'オープンフロア', '１Ｒ', '５ＬＤＫ', '１ＬＤＫ＋Ｓ', '３ＬＤＫ＋Ｓ', '１Ｒ＋Ｓ',\n",
       "       '２ＬＤＫ＋Ｓ', '４Ｋ', '３Ｋ', '３ＤＫ＋Ｓ', '４ＬＤＫ＋Ｓ', '５ＤＫ', '４Ｌ＋Ｋ', 'スタジオ',\n",
       "       '２ＤＫ＋Ｓ', '６ＤＫ', '６ＬＤＫ＋Ｓ', '７ＬＤＫ', '１ＤＫ＋Ｓ', '６ＬＤＫ', '１Ｋ＋Ｓ', '３Ｄ',\n",
       "       '１ＬＫ', '５ＬＤＫ＋Ｓ', '７ＤＫ', '３ＬＫ', '５Ｋ', '２Ｋ＋Ｓ', '１Ｌ', '４ＤＫ＋Ｓ', '３ＬＤ',\n",
       "       '８ＬＤＫ', '２ＬＫ', '３ＬＤＫ＋Ｋ', '３ＬＤ＋Ｓ', '４Ｌ', 'メゾネット', '４ＬＤＫ＋Ｋ',\n",
       "       '８ＬＤＫ＋Ｓ', '７ＬＤＫ＋Ｓ', '２ＬＤ＋Ｓ', '２Ｌ', '２ＬＤＫ＋Ｋ', '１ＬＤ＋Ｓ', '２ＬＫ＋Ｓ',\n",
       "       '５ＬＤＫ＋Ｋ', '２Ｌ＋Ｓ', '３Ｋ＋Ｓ', '１ＤＫ＋Ｋ', '２Ｄ', '１ＬＫ＋Ｓ', '１Ｌ＋Ｓ', '２ＬＤ',\n",
       "       '４Ｄ'], dtype=object)"
      ]
     },
     "execution_count": 92,
     "metadata": {},
     "output_type": "execute_result"
    }
   ],
   "source": [
    "data.floor_type.unique()"
   ]
  },
  {
   "cell_type": "markdown",
   "metadata": {},
   "source": [
    "# area の前処理"
   ]
  },
  {
   "cell_type": "markdown",
   "metadata": {},
   "source": [
    "object になっているのでfloatにして返す"
   ]
  },
  {
   "cell_type": "code",
   "execution_count": 96,
   "metadata": {},
   "outputs": [
    {
     "data": {
      "text/plain": [
       "array(['45', '15', '80', '60', '75', '70', '40', '20', '85', '65', '55',\n",
       "       '25', '95', '30', '90', '120', '35', '105', '500', '50', '100',\n",
       "       '110', '160', '130', '10', '180', '400', '330', '115', '135',\n",
       "       '140', '230', '150', '290', '145', '170', '210', '630', '125',\n",
       "       '155', '200', '190', '220', '2000㎡以上', '260', '480', '360', '195',\n",
       "       '175', '320', '440', '165', '740', 80, 20, 75, 70, 65, 25, 10, 100,\n",
       "       15, 85, 60, 45, 35, 50, 140, 55, 30, 110, 105, 95, 40, 90, 115,\n",
       "       135, 120, 150, 145, 280, 165, 370, 190, 130, 350, 125, 160, 195,\n",
       "       '830', '470', '300', '980', '710', '270', '820', 460, 520, 180,\n",
       "       230, 310, 260, 570, 175, 480, 155, 300, 185, 270, 170, 200, 680,\n",
       "       390, 410, 220, 790, 240, 600, 250, 730, 340, 690, 650, 760, 670,\n",
       "       290, 970, 440, 610, '590', '780', '650', '185', '410', '660',\n",
       "       '250', '620', '240', '760', '670', '1300', '340', '460', 210, 500,\n",
       "       1100, 700, 450, 490, 800, 430, 950, 1000, 510, 320, 550, 360, 710,\n",
       "       940, 470, 590, 780, 850, 900, 660, 580, 960, 380, 990, 400, 540,\n",
       "       770, '520', '560', '310', '730', '450', '390', '370', 1400, 530,\n",
       "       740, 420, 330, 860, '1000', '690', '280', '1500', '380', 720, 890,\n",
       "       560, 630, 620, 1500, 870, 820, 1200], dtype=object)"
      ]
     },
     "execution_count": 96,
     "metadata": {},
     "output_type": "execute_result"
    }
   ],
   "source": [
    "data.area.unique()"
   ]
  },
  {
   "cell_type": "code",
   "execution_count": 121,
   "metadata": {},
   "outputs": [],
   "source": [
    "def convert_area(area):\n",
    "    if (area==\"2000㎡以上\"):\n",
    "        return 2000\n",
    "    else:\n",
    "        return int(area)"
   ]
  },
  {
   "cell_type": "code",
   "execution_count": 103,
   "metadata": {},
   "outputs": [
    {
     "data": {
      "text/plain": [
       "dtype('int64')"
      ]
     },
     "execution_count": 103,
     "metadata": {},
     "output_type": "execute_result"
    }
   ],
   "source": [
    "data[\"area\"].apply(lambda x :area_convert(x)).dtypes"
   ]
  },
  {
   "cell_type": "markdown",
   "metadata": {},
   "source": [
    "# structure の前処理"
   ]
  },
  {
   "cell_type": "markdown",
   "metadata": {},
   "source": [
    "構造の定義がよくわからないので調べる"
   ]
  },
  {
   "cell_type": "markdown",
   "metadata": {},
   "source": [
    "# sold_year の前処理"
   ]
  },
  {
   "cell_type": "markdown",
   "metadata": {},
   "source": [
    "\"builted_year\"のように西暦にして返す\n",
    "\n",
    "・もしかしたら「上半期」　「下半期」を取り出して別の変数にして扱うかも"
   ]
  },
  {
   "cell_type": "code",
   "execution_count": 104,
   "metadata": {},
   "outputs": [
    {
     "data": {
      "text/plain": [
       "array(['2021年第2四半期', '2020年第2四半期', '2020年第4四半期', '2020年第1四半期',\n",
       "       '2007年第3四半期', '2013年第4四半期', '2015年第1四半期', '2006年第2四半期',\n",
       "       '2010年第1四半期', '2011年第1四半期', '2006年第4四半期', '2016年第3四半期',\n",
       "       '2012年第4四半期', '2010年第3四半期', '2008年第3四半期', '2019年第1四半期',\n",
       "       '2015年第2四半期', '2016年第2四半期', '2019年第2四半期', '2013年第2四半期',\n",
       "       '2011年第4四半期', '2018年第3四半期', '2018年第1四半期', '2007年第4四半期',\n",
       "       '2013年第3四半期', '2014年第3四半期', '2020年第3四半期', '2017年第4四半期',\n",
       "       '2019年第3四半期', '2012年第3四半期', '2017年第3四半期', '2010年第4四半期',\n",
       "       '2012年第2四半期', '2021年第1四半期', '2009年第4四半期', '2017年第2四半期',\n",
       "       '2008年第4四半期', '2009年第2四半期', '2016年第4四半期', '2013年第1四半期',\n",
       "       '2015年第4四半期', '2007年第1四半期', '2018年第4四半期', '2016年第1四半期',\n",
       "       '2011年第2四半期', '2014年第2四半期', '2015年第3四半期', '2007年第2四半期',\n",
       "       '2019年第4四半期', '2006年第3四半期', '2014年第4四半期', '2010年第2四半期',\n",
       "       '2012年第1四半期', '2018年第2四半期', '2009年第1四半期', '2011年第3四半期',\n",
       "       '2008年第2四半期', '2009年第3四半期', '2014年第1四半期', '2017年第1四半期',\n",
       "       '2008年第1四半期', '2006年第1四半期', '2005年第3四半期', '2005年第4四半期'],\n",
       "      dtype=object)"
      ]
     },
     "execution_count": 104,
     "metadata": {},
     "output_type": "execute_result"
    }
   ],
   "source": [
    "data.sold_year.unique()"
   ]
  },
  {
   "cell_type": "code",
   "execution_count": 105,
   "metadata": {},
   "outputs": [],
   "source": [
    "def convert_sold_year(year):\n",
    "    return int(year[:4])\n",
    "    "
   ]
  },
  {
   "cell_type": "code",
   "execution_count": 108,
   "metadata": {},
   "outputs": [
    {
     "data": {
      "text/plain": [
       "dtype('int64')"
      ]
     },
     "execution_count": 108,
     "metadata": {},
     "output_type": "execute_result"
    }
   ],
   "source": [
    "data.sold_year.apply(lambda x:convert_sold_year(x)).dtypes"
   ]
  },
  {
   "cell_type": "code",
   "execution_count": null,
   "metadata": {},
   "outputs": [],
   "source": []
  },
  {
   "cell_type": "code",
   "execution_count": null,
   "metadata": {},
   "outputs": [],
   "source": []
  },
  {
   "cell_type": "code",
   "execution_count": 91,
   "metadata": {},
   "outputs": [
    {
     "data": {
      "text/plain": [
       "nearest_station    float64\n",
       "floor_type          object\n",
       "area                object\n",
       "builted_year        object\n",
       "structure           object\n",
       "coverrage          float64\n",
       "floor_rate         float64\n",
       "sold_year           object\n",
       "改装                  object\n",
       "取引価格（総額）_log       float64\n",
       "dtype: object"
      ]
     },
     "execution_count": 91,
     "metadata": {},
     "output_type": "execute_result"
    }
   ],
   "source": [
    "data.dtypes"
   ]
  },
  {
   "cell_type": "markdown",
   "metadata": {},
   "source": [
    "data.head"
   ]
  },
  {
   "cell_type": "code",
   "execution_count": 89,
   "metadata": {},
   "outputs": [
    {
     "data": {
      "text/html": [
       "<div>\n",
       "<style scoped>\n",
       "    .dataframe tbody tr th:only-of-type {\n",
       "        vertical-align: middle;\n",
       "    }\n",
       "\n",
       "    .dataframe tbody tr th {\n",
       "        vertical-align: top;\n",
       "    }\n",
       "\n",
       "    .dataframe thead th {\n",
       "        text-align: right;\n",
       "    }\n",
       "</style>\n",
       "<table border=\"1\" class=\"dataframe\">\n",
       "  <thead>\n",
       "    <tr style=\"text-align: right;\">\n",
       "      <th></th>\n",
       "      <th>nearest_station</th>\n",
       "      <th>floor_type</th>\n",
       "      <th>area</th>\n",
       "      <th>builted_year</th>\n",
       "      <th>structure</th>\n",
       "      <th>coverrage</th>\n",
       "      <th>floor_rate</th>\n",
       "      <th>sold_year</th>\n",
       "      <th>改装</th>\n",
       "      <th>取引価格（総額）_log</th>\n",
       "    </tr>\n",
       "  </thead>\n",
       "  <tbody>\n",
       "    <tr>\n",
       "      <th>0</th>\n",
       "      <td>7.0</td>\n",
       "      <td>２ＬＤＫ</td>\n",
       "      <td>45</td>\n",
       "      <td>昭和63年</td>\n",
       "      <td>ＲＣ</td>\n",
       "      <td>60.0</td>\n",
       "      <td>150.0</td>\n",
       "      <td>2021年第2四半期</td>\n",
       "      <td>改装済</td>\n",
       "      <td>7.041393</td>\n",
       "    </tr>\n",
       "    <tr>\n",
       "      <th>1</th>\n",
       "      <td>4.0</td>\n",
       "      <td>１Ｋ</td>\n",
       "      <td>15</td>\n",
       "      <td>昭和64年</td>\n",
       "      <td>ＳＲＣ</td>\n",
       "      <td>80.0</td>\n",
       "      <td>400.0</td>\n",
       "      <td>2020年第2四半期</td>\n",
       "      <td>未改装</td>\n",
       "      <td>6.602060</td>\n",
       "    </tr>\n",
       "    <tr>\n",
       "      <th>2</th>\n",
       "      <td>18.0</td>\n",
       "      <td>４ＬＤＫ</td>\n",
       "      <td>80</td>\n",
       "      <td>昭和63年</td>\n",
       "      <td>ＲＣ</td>\n",
       "      <td>60.0</td>\n",
       "      <td>150.0</td>\n",
       "      <td>2020年第4四半期</td>\n",
       "      <td>改装済</td>\n",
       "      <td>7.397940</td>\n",
       "    </tr>\n",
       "    <tr>\n",
       "      <th>3</th>\n",
       "      <td>5.0</td>\n",
       "      <td>２ＬＤＫ</td>\n",
       "      <td>60</td>\n",
       "      <td>平成18年</td>\n",
       "      <td>ＲＣ</td>\n",
       "      <td>80.0</td>\n",
       "      <td>400.0</td>\n",
       "      <td>2020年第1四半期</td>\n",
       "      <td>未改装</td>\n",
       "      <td>7.278754</td>\n",
       "    </tr>\n",
       "    <tr>\n",
       "      <th>4</th>\n",
       "      <td>6.0</td>\n",
       "      <td>３ＤＫ</td>\n",
       "      <td>60</td>\n",
       "      <td>昭和62年</td>\n",
       "      <td>ＳＲＣ</td>\n",
       "      <td>80.0</td>\n",
       "      <td>400.0</td>\n",
       "      <td>2007年第3四半期</td>\n",
       "      <td>未改装</td>\n",
       "      <td>6.929419</td>\n",
       "    </tr>\n",
       "  </tbody>\n",
       "</table>\n",
       "</div>"
      ],
      "text/plain": [
       "   nearest_station floor_type area builted_year structure  coverrage  \\\n",
       "0              7.0       ２ＬＤＫ   45        昭和63年        ＲＣ       60.0   \n",
       "1              4.0         １Ｋ   15        昭和64年       ＳＲＣ       80.0   \n",
       "2             18.0       ４ＬＤＫ   80        昭和63年        ＲＣ       60.0   \n",
       "3              5.0       ２ＬＤＫ   60        平成18年        ＲＣ       80.0   \n",
       "4              6.0        ３ＤＫ   60        昭和62年       ＳＲＣ       80.0   \n",
       "\n",
       "   floor_rate   sold_year   改装  取引価格（総額）_log  \n",
       "0       150.0  2021年第2四半期  改装済      7.041393  \n",
       "1       400.0  2020年第2四半期  未改装      6.602060  \n",
       "2       150.0  2020年第4四半期  改装済      7.397940  \n",
       "3       400.0  2020年第1四半期  未改装      7.278754  \n",
       "4       400.0  2007年第3四半期  未改装      6.929419  "
      ]
     },
     "execution_count": 89,
     "metadata": {},
     "output_type": "execute_result"
    }
   ],
   "source": [
    "data.head()"
   ]
  },
  {
   "cell_type": "markdown",
   "metadata": {},
   "source": [
    "# 処理のまとめ"
   ]
  },
  {
   "cell_type": "markdown",
   "metadata": {},
   "source": []
  },
  {
   "cell_type": "code",
   "execution_count": 127,
   "metadata": {},
   "outputs": [],
   "source": [
    "def data_processing(data:pd.DataFrame)->pd.DataFrame:\n",
    "    df = data.copy()\n",
    "    df.nearest_station = df.nearest_station.apply(lambda x: convert_nearest_station(x))\n",
    "    df.builted_year = df.builted_year.apply(lambda x:convert_builted_year(x))\n",
    "    df.area = df.area.apply(lambda x:convert_area(x))\n",
    "    df.sold_year = df.sold_year.apply(lambda x:convert_sold_year(x))\n",
    "    \n",
    "    dummies = pd.get_dummies(data[['改装']])\n",
    "    df = pd.concat([df.drop('改装',axis=1),dummies[['改装_改装済']]],axis = 1)\n",
    "    \n",
    "    df = df.drop([\"floor_type\",\"structure\"],axis=1)\n",
    "    return df\n",
    "    \n",
    "    "
   ]
  },
  {
   "cell_type": "code",
   "execution_count": 128,
   "metadata": {},
   "outputs": [
    {
     "data": {
      "text/html": [
       "<div>\n",
       "<style scoped>\n",
       "    .dataframe tbody tr th:only-of-type {\n",
       "        vertical-align: middle;\n",
       "    }\n",
       "\n",
       "    .dataframe tbody tr th {\n",
       "        vertical-align: top;\n",
       "    }\n",
       "\n",
       "    .dataframe thead th {\n",
       "        text-align: right;\n",
       "    }\n",
       "</style>\n",
       "<table border=\"1\" class=\"dataframe\">\n",
       "  <thead>\n",
       "    <tr style=\"text-align: right;\">\n",
       "      <th></th>\n",
       "      <th>nearest_station</th>\n",
       "      <th>area</th>\n",
       "      <th>builted_year</th>\n",
       "      <th>coverrage</th>\n",
       "      <th>floor_rate</th>\n",
       "      <th>sold_year</th>\n",
       "      <th>取引価格（総額）_log</th>\n",
       "      <th>改装_改装済</th>\n",
       "    </tr>\n",
       "  </thead>\n",
       "  <tbody>\n",
       "    <tr>\n",
       "      <th>0</th>\n",
       "      <td>7.0</td>\n",
       "      <td>45</td>\n",
       "      <td>1988.0</td>\n",
       "      <td>60.0</td>\n",
       "      <td>150.0</td>\n",
       "      <td>2021</td>\n",
       "      <td>7.041393</td>\n",
       "      <td>1</td>\n",
       "    </tr>\n",
       "    <tr>\n",
       "      <th>1</th>\n",
       "      <td>4.0</td>\n",
       "      <td>15</td>\n",
       "      <td>1989.0</td>\n",
       "      <td>80.0</td>\n",
       "      <td>400.0</td>\n",
       "      <td>2020</td>\n",
       "      <td>6.602060</td>\n",
       "      <td>0</td>\n",
       "    </tr>\n",
       "    <tr>\n",
       "      <th>2</th>\n",
       "      <td>18.0</td>\n",
       "      <td>80</td>\n",
       "      <td>1988.0</td>\n",
       "      <td>60.0</td>\n",
       "      <td>150.0</td>\n",
       "      <td>2020</td>\n",
       "      <td>7.397940</td>\n",
       "      <td>1</td>\n",
       "    </tr>\n",
       "    <tr>\n",
       "      <th>3</th>\n",
       "      <td>5.0</td>\n",
       "      <td>60</td>\n",
       "      <td>2006.0</td>\n",
       "      <td>80.0</td>\n",
       "      <td>400.0</td>\n",
       "      <td>2020</td>\n",
       "      <td>7.278754</td>\n",
       "      <td>0</td>\n",
       "    </tr>\n",
       "    <tr>\n",
       "      <th>4</th>\n",
       "      <td>6.0</td>\n",
       "      <td>60</td>\n",
       "      <td>1987.0</td>\n",
       "      <td>80.0</td>\n",
       "      <td>400.0</td>\n",
       "      <td>2007</td>\n",
       "      <td>6.929419</td>\n",
       "      <td>0</td>\n",
       "    </tr>\n",
       "    <tr>\n",
       "      <th>...</th>\n",
       "      <td>...</td>\n",
       "      <td>...</td>\n",
       "      <td>...</td>\n",
       "      <td>...</td>\n",
       "      <td>...</td>\n",
       "      <td>...</td>\n",
       "      <td>...</td>\n",
       "      <td>...</td>\n",
       "    </tr>\n",
       "    <tr>\n",
       "      <th>37374</th>\n",
       "      <td>NaN</td>\n",
       "      <td>70</td>\n",
       "      <td>1980.0</td>\n",
       "      <td>NaN</td>\n",
       "      <td>NaN</td>\n",
       "      <td>2009</td>\n",
       "      <td>7.342423</td>\n",
       "      <td>1</td>\n",
       "    </tr>\n",
       "    <tr>\n",
       "      <th>37375</th>\n",
       "      <td>16.0</td>\n",
       "      <td>70</td>\n",
       "      <td>2003.0</td>\n",
       "      <td>60.0</td>\n",
       "      <td>200.0</td>\n",
       "      <td>2012</td>\n",
       "      <td>7.230449</td>\n",
       "      <td>0</td>\n",
       "    </tr>\n",
       "    <tr>\n",
       "      <th>37376</th>\n",
       "      <td>6.0</td>\n",
       "      <td>80</td>\n",
       "      <td>2006.0</td>\n",
       "      <td>60.0</td>\n",
       "      <td>200.0</td>\n",
       "      <td>2014</td>\n",
       "      <td>7.380211</td>\n",
       "      <td>0</td>\n",
       "    </tr>\n",
       "    <tr>\n",
       "      <th>37377</th>\n",
       "      <td>45.0</td>\n",
       "      <td>45</td>\n",
       "      <td>1968.0</td>\n",
       "      <td>NaN</td>\n",
       "      <td>NaN</td>\n",
       "      <td>2012</td>\n",
       "      <td>6.770852</td>\n",
       "      <td>0</td>\n",
       "    </tr>\n",
       "    <tr>\n",
       "      <th>37378</th>\n",
       "      <td>9.0</td>\n",
       "      <td>70</td>\n",
       "      <td>1975.0</td>\n",
       "      <td>60.0</td>\n",
       "      <td>200.0</td>\n",
       "      <td>2018</td>\n",
       "      <td>7.041393</td>\n",
       "      <td>0</td>\n",
       "    </tr>\n",
       "  </tbody>\n",
       "</table>\n",
       "<p>722574 rows × 8 columns</p>\n",
       "</div>"
      ],
      "text/plain": [
       "       nearest_station  area  builted_year  coverrage  floor_rate  sold_year  \\\n",
       "0                  7.0    45        1988.0       60.0       150.0       2021   \n",
       "1                  4.0    15        1989.0       80.0       400.0       2020   \n",
       "2                 18.0    80        1988.0       60.0       150.0       2020   \n",
       "3                  5.0    60        2006.0       80.0       400.0       2020   \n",
       "4                  6.0    60        1987.0       80.0       400.0       2007   \n",
       "...                ...   ...           ...        ...         ...        ...   \n",
       "37374              NaN    70        1980.0        NaN         NaN       2009   \n",
       "37375             16.0    70        2003.0       60.0       200.0       2012   \n",
       "37376              6.0    80        2006.0       60.0       200.0       2014   \n",
       "37377             45.0    45        1968.0        NaN         NaN       2012   \n",
       "37378              9.0    70        1975.0       60.0       200.0       2018   \n",
       "\n",
       "       取引価格（総額）_log  改装_改装済  \n",
       "0          7.041393       1  \n",
       "1          6.602060       0  \n",
       "2          7.397940       1  \n",
       "3          7.278754       0  \n",
       "4          6.929419       0  \n",
       "...             ...     ...  \n",
       "37374      7.342423       1  \n",
       "37375      7.230449       0  \n",
       "37376      7.380211       0  \n",
       "37377      6.770852       0  \n",
       "37378      7.041393       0  \n",
       "\n",
       "[722574 rows x 8 columns]"
      ]
     },
     "execution_count": 128,
     "metadata": {},
     "output_type": "execute_result"
    }
   ],
   "source": [
    "processed_data = data_processing(data)\n",
    "processed_data"
   ]
  },
  {
   "cell_type": "code",
   "execution_count": null,
   "metadata": {},
   "outputs": [],
   "source": []
  }
 ],
 "metadata": {
  "kernelspec": {
   "display_name": "Python 3",
   "language": "python",
   "name": "python3"
  },
  "language_info": {
   "codemirror_mode": {
    "name": "ipython",
    "version": 3
   },
   "file_extension": ".py",
   "mimetype": "text/x-python",
   "name": "python",
   "nbconvert_exporter": "python",
   "pygments_lexer": "ipython3",
   "version": "3.8.5"
  }
 },
 "nbformat": 4,
 "nbformat_minor": 4
}
